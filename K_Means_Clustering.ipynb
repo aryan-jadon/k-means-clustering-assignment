{
  "nbformat": 4,
  "nbformat_minor": 0,
  "metadata": {
    "colab": {
      "name": "K-Means-Clustering.ipynb",
      "provenance": []
    },
    "kernelspec": {
      "name": "python3",
      "display_name": "Python 3"
    },
    "language_info": {
      "name": "python"
    }
  },
  "cells": [
    {
      "cell_type": "markdown",
      "metadata": {
        "id": "rmVCcrc89mnF"
      },
      "source": [
        "#### K-Means Clustering "
      ]
    },
    {
      "cell_type": "markdown",
      "metadata": {
        "id": "Y68-o98ZTnI6"
      },
      "source": [
        "#### Importing Libraries"
      ]
    },
    {
      "cell_type": "code",
      "metadata": {
        "id": "naYsXTW4TliC"
      },
      "source": [
        "import pandas as pd\n",
        "import numpy as np\n",
        "from sklearn.cluster import KMeans\n",
        "from matplotlib import pyplot as plot"
      ],
      "execution_count": 23,
      "outputs": []
    },
    {
      "cell_type": "markdown",
      "metadata": {
        "id": "GRfjO_lQTsZ5"
      },
      "source": [
        "#### Creating DataSet"
      ]
    },
    {
      "cell_type": "code",
      "metadata": {
        "colab": {
          "base_uri": "https://localhost:8080/",
          "height": 576
        },
        "id": "iMUMrbGWTrJK",
        "outputId": "57fb58fb-8011-4b92-b9d2-d726217d1d31"
      },
      "source": [
        "data = {'Spending Index': [3,3,5,2,4,6,6,6,5,6,7,8,9,8,9,9,8], \n",
        "        'Income Index': [5,4,6,6,5,8,2,3,6,7,2,5,1,2,6,1,3]}\n",
        "dataframe = pd.DataFrame(data=data)\n",
        "dataframe"
      ],
      "execution_count": 24,
      "outputs": [
        {
          "output_type": "execute_result",
          "data": {
            "text/html": [
              "<div>\n",
              "<style scoped>\n",
              "    .dataframe tbody tr th:only-of-type {\n",
              "        vertical-align: middle;\n",
              "    }\n",
              "\n",
              "    .dataframe tbody tr th {\n",
              "        vertical-align: top;\n",
              "    }\n",
              "\n",
              "    .dataframe thead th {\n",
              "        text-align: right;\n",
              "    }\n",
              "</style>\n",
              "<table border=\"1\" class=\"dataframe\">\n",
              "  <thead>\n",
              "    <tr style=\"text-align: right;\">\n",
              "      <th></th>\n",
              "      <th>Spending Index</th>\n",
              "      <th>Income Index</th>\n",
              "    </tr>\n",
              "  </thead>\n",
              "  <tbody>\n",
              "    <tr>\n",
              "      <th>0</th>\n",
              "      <td>3</td>\n",
              "      <td>5</td>\n",
              "    </tr>\n",
              "    <tr>\n",
              "      <th>1</th>\n",
              "      <td>3</td>\n",
              "      <td>4</td>\n",
              "    </tr>\n",
              "    <tr>\n",
              "      <th>2</th>\n",
              "      <td>5</td>\n",
              "      <td>6</td>\n",
              "    </tr>\n",
              "    <tr>\n",
              "      <th>3</th>\n",
              "      <td>2</td>\n",
              "      <td>6</td>\n",
              "    </tr>\n",
              "    <tr>\n",
              "      <th>4</th>\n",
              "      <td>4</td>\n",
              "      <td>5</td>\n",
              "    </tr>\n",
              "    <tr>\n",
              "      <th>5</th>\n",
              "      <td>6</td>\n",
              "      <td>8</td>\n",
              "    </tr>\n",
              "    <tr>\n",
              "      <th>6</th>\n",
              "      <td>6</td>\n",
              "      <td>2</td>\n",
              "    </tr>\n",
              "    <tr>\n",
              "      <th>7</th>\n",
              "      <td>6</td>\n",
              "      <td>3</td>\n",
              "    </tr>\n",
              "    <tr>\n",
              "      <th>8</th>\n",
              "      <td>5</td>\n",
              "      <td>6</td>\n",
              "    </tr>\n",
              "    <tr>\n",
              "      <th>9</th>\n",
              "      <td>6</td>\n",
              "      <td>7</td>\n",
              "    </tr>\n",
              "    <tr>\n",
              "      <th>10</th>\n",
              "      <td>7</td>\n",
              "      <td>2</td>\n",
              "    </tr>\n",
              "    <tr>\n",
              "      <th>11</th>\n",
              "      <td>8</td>\n",
              "      <td>5</td>\n",
              "    </tr>\n",
              "    <tr>\n",
              "      <th>12</th>\n",
              "      <td>9</td>\n",
              "      <td>1</td>\n",
              "    </tr>\n",
              "    <tr>\n",
              "      <th>13</th>\n",
              "      <td>8</td>\n",
              "      <td>2</td>\n",
              "    </tr>\n",
              "    <tr>\n",
              "      <th>14</th>\n",
              "      <td>9</td>\n",
              "      <td>6</td>\n",
              "    </tr>\n",
              "    <tr>\n",
              "      <th>15</th>\n",
              "      <td>9</td>\n",
              "      <td>1</td>\n",
              "    </tr>\n",
              "    <tr>\n",
              "      <th>16</th>\n",
              "      <td>8</td>\n",
              "      <td>3</td>\n",
              "    </tr>\n",
              "  </tbody>\n",
              "</table>\n",
              "</div>"
            ],
            "text/plain": [
              "    Spending Index  Income Index\n",
              "0                3             5\n",
              "1                3             4\n",
              "2                5             6\n",
              "3                2             6\n",
              "4                4             5\n",
              "5                6             8\n",
              "6                6             2\n",
              "7                6             3\n",
              "8                5             6\n",
              "9                6             7\n",
              "10               7             2\n",
              "11               8             5\n",
              "12               9             1\n",
              "13               8             2\n",
              "14               9             6\n",
              "15               9             1\n",
              "16               8             3"
            ]
          },
          "metadata": {},
          "execution_count": 24
        }
      ]
    },
    {
      "cell_type": "markdown",
      "metadata": {
        "id": "5ZDPzLLRT2YT"
      },
      "source": [
        "#### Compute Within Cluster Sum of Squares if value of K needs to be determined"
      ]
    },
    {
      "cell_type": "code",
      "metadata": {
        "colab": {
          "base_uri": "https://localhost:8080/",
          "height": 295
        },
        "id": "F3DAWQRpT0W5",
        "outputId": "88b9c447-6c9a-47d4-9474-1310ccdfe87c"
      },
      "source": [
        "clusters_square = []\n",
        "\n",
        "for index in range (1, 15):\n",
        "  kmeans = KMeans(n_clusters=index, \n",
        "                  init='k-means++', \n",
        "                  random_state=40)\n",
        "  kmeans.fit(dataframe)\n",
        "  clusters_square.append(kmeans.inertia_)\n",
        "\n",
        "plot.plot(range(1,15), clusters_square)\n",
        "\n",
        "plot.title('The Elbow Method')\n",
        "plot.xlabel('Number of clusters')\n",
        "plot.ylabel('clusters_sum_of_squares')\n",
        "plot.show()"
      ],
      "execution_count": 25,
      "outputs": [
        {
          "output_type": "display_data",
          "data": {
            "image/png": "[encoded data removed]",
            "text/plain": [
              "<Figure size 432x288 with 1 Axes>"
            ]
          },
          "metadata": {
            "needs_background": "light"
          }
        }
      ]
    },
    {
      "cell_type": "markdown",
      "metadata": {
        "id": "Hl9wMIX8UUph"
      },
      "source": [
        "#### Calculating K means cluster for K=2"
      ]
    },
    {
      "cell_type": "code",
      "metadata": {
        "colab": {
          "base_uri": "https://localhost:8080/"
        },
        "id": "TzFju37XUGJA",
        "outputId": "1cd86c9e-3e92-4014-bd54-17bd5d3ad285"
      },
      "source": [
        "kmeans = KMeans(n_clusters=2, init='k-means++', random_state=40)\n",
        "y_kmeans= kmeans.fit_predict(dataframe)\n",
        "y_kmeans"
      ],
      "execution_count": 26,
      "outputs": [
        {
          "output_type": "execute_result",
          "data": {
            "text/plain": [
              "array([0, 0, 0, 0, 0, 0, 1, 1, 0, 0, 1, 1, 1, 1, 1, 1, 1], dtype=int32)"
            ]
          },
          "metadata": {},
          "execution_count": 26
        }
      ]
    },
    {
      "cell_type": "markdown",
      "metadata": {
        "id": "Cy0ucxOsUcU5"
      },
      "source": [
        "#### Visualisation of K means clusters and its centroids for K=2"
      ]
    },
    {
      "cell_type": "code",
      "metadata": {
        "colab": {
          "base_uri": "https://localhost:8080/",
          "height": 295
        },
        "id": "iFuurwPbUZv7",
        "outputId": "edda9619-55ea-4523-8047-feb1bfa0ab1c"
      },
      "source": [
        "plot.scatter(dataframe[y_kmeans == 0]['Spending Index'], \n",
        "             dataframe[y_kmeans == 0]['Income Index'], \n",
        "             s = 100, c = 'red', label = 'Cluster 1')\n",
        "\n",
        "plot.scatter(dataframe[y_kmeans == 1]['Spending Index'], \n",
        "             dataframe[y_kmeans == 1]['Income Index'], \n",
        "             s = 100, c = 'blue', label = 'Cluster 2')\n",
        "\n",
        "plot.scatter(kmeans.cluster_centers_[:, 0], \n",
        "             kmeans.cluster_centers_[:, 1], \n",
        "             s = 300, c = 'yellow', label = 'Centroids')\n",
        "\n",
        "plot.title('Clusters of Shoppers')\n",
        "plot.xlabel('Income Index')\n",
        "plot.ylabel('Spending Index')\n",
        "plot.legend()\n",
        "plot.show()"
      ],
      "execution_count": 27,
      "outputs": [
        {
          "output_type": "display_data",
          "data": {
            "image/png": "[encoded data removed]",
            "text/plain": [
              "<Figure size 432x288 with 1 Axes>"
            ]
          },
          "metadata": {
            "needs_background": "light"
          }
        }
      ]
    },
    {
      "cell_type": "markdown",
      "metadata": {
        "id": "HdiLMlbFUkK2"
      },
      "source": [
        "#### Calculating K means cluster for K=3"
      ]
    },
    {
      "cell_type": "code",
      "metadata": {
        "colab": {
          "base_uri": "https://localhost:8080/"
        },
        "id": "AeZUS-qPUgdl",
        "outputId": "3f6743db-cfff-4c80-afbe-45f625eece1f"
      },
      "source": [
        "kmeans = KMeans(n_clusters=3, init='k-means++', random_state=40)\n",
        "y_kmeans= kmeans.fit_predict(dataframe)\n",
        "y_kmeans"
      ],
      "execution_count": 28,
      "outputs": [
        {
          "output_type": "execute_result",
          "data": {
            "text/plain": [
              "array([2, 2, 2, 2, 2, 0, 1, 1, 2, 0, 1, 0, 1, 1, 0, 1, 1], dtype=int32)"
            ]
          },
          "metadata": {},
          "execution_count": 28
        }
      ]
    },
    {
      "cell_type": "markdown",
      "metadata": {
        "id": "hGRrWTqnUpNE"
      },
      "source": [
        "#### Visualisation of K means clusters and its centroids for K=3"
      ]
    },
    {
      "cell_type": "code",
      "metadata": {
        "colab": {
          "base_uri": "https://localhost:8080/",
          "height": 295
        },
        "id": "dIS_tGZ2Um9M",
        "outputId": "81dc8b54-36c5-42ad-ecca-60c43370a242"
      },
      "source": [
        "plot.scatter(dataframe[y_kmeans == 0]['Spending Index'], \n",
        "             dataframe[y_kmeans == 0]['Income Index'], \n",
        "             s = 100, c = 'red', label = 'Cluster 1')\n",
        "\n",
        "plot.scatter(dataframe[y_kmeans == 1]['Spending Index'], \n",
        "             dataframe[y_kmeans == 1]['Income Index'], \n",
        "             s = 100, c = 'blue', label = 'Cluster 2')\n",
        "\n",
        "plot.scatter(dataframe[y_kmeans == 2]['Spending Index'], \n",
        "             dataframe[y_kmeans == 2]['Income Index'], \n",
        "             s = 100, c = 'green', label = 'Cluster 3')\n",
        "\n",
        "plot.scatter(kmeans.cluster_centers_[:, 0], \n",
        "             kmeans.cluster_centers_[:, 1], \n",
        "             s = 300, c = 'yellow', label = 'Centroids')\n",
        "\n",
        "plot.title('Clusters of Shoppers')\n",
        "plot.xlabel('Income Index')\n",
        "plot.ylabel('Spending Index')\n",
        "plot.legend()\n",
        "plot.show()"
      ],
      "execution_count": 29,
      "outputs": [
        {
          "output_type": "display_data",
          "data": {
            "image/png": "[encoded data removed]",
            "text/plain": [
              "<Figure size 432x288 with 1 Axes>"
            ]
          },
          "metadata": {
            "needs_background": "light"
          }
        }
      ]
    },
    {
      "cell_type": "markdown",
      "metadata": {
        "id": "yRADtlmyUuJ9"
      },
      "source": [
        "#### Calculating K means cluster for K=4"
      ]
    },
    {
      "cell_type": "code",
      "metadata": {
        "colab": {
          "base_uri": "https://localhost:8080/"
        },
        "id": "ZVskIQtDUrdc",
        "outputId": "d7a0aff1-ce5d-4a34-d30e-5637bb73a04b"
      },
      "source": [
        "kmeans = KMeans(n_clusters=4, init='k-means++', random_state=40)\n",
        "y_kmeans= kmeans.fit_predict(dataframe)\n",
        "y_kmeans"
      ],
      "execution_count": 30,
      "outputs": [
        {
          "output_type": "execute_result",
          "data": {
            "text/plain": [
              "array([3, 3, 1, 3, 3, 1, 0, 0, 1, 1, 0, 2, 0, 0, 2, 0, 0], dtype=int32)"
            ]
          },
          "metadata": {},
          "execution_count": 30
        }
      ]
    },
    {
      "cell_type": "markdown",
      "metadata": {
        "id": "2puywQ34U2VH"
      },
      "source": [
        "#### Visualisation of K means clusters and its centroids for K=4"
      ]
    },
    {
      "cell_type": "code",
      "metadata": {
        "colab": {
          "base_uri": "https://localhost:8080/",
          "height": 295
        },
        "id": "ASnutDRsUwpm",
        "outputId": "daa418c5-5f84-462d-8874-4fda13b9899b"
      },
      "source": [
        "plot.scatter(dataframe[y_kmeans == 0]['Spending Index'], \n",
        "             dataframe[y_kmeans == 0]['Income Index'], \n",
        "             s = 100, c = 'red', label = 'Cluster 1')\n",
        "\n",
        "plot.scatter(dataframe[y_kmeans == 1]['Spending Index'], \n",
        "             dataframe[y_kmeans == 1]['Income Index'], \n",
        "             s = 100, c = 'blue', label = 'Cluster 2')\n",
        "\n",
        "plot.scatter(dataframe[y_kmeans == 2]['Spending Index'], \n",
        "             dataframe[y_kmeans == 2]['Income Index'], \n",
        "             s = 100, c = 'green', label = 'Cluster 3')\n",
        "\n",
        "plot.scatter(dataframe[y_kmeans == 3]['Spending Index'], \n",
        "             dataframe[y_kmeans == 3]['Income Index'], \n",
        "             s = 100, c = 'pink', label = 'Cluster 4')\n",
        "\n",
        "plot.scatter(kmeans.cluster_centers_[:, 0], \n",
        "             kmeans.cluster_centers_[:, 1], \n",
        "             s = 300, c = 'yellow', label = 'Centroids')\n",
        "\n",
        "plot.title('Clusters of Shoppers')\n",
        "plot.xlabel('Income Index')\n",
        "plot.ylabel('Spending Index')\n",
        "\n",
        "plot.legend()\n",
        "plot.show()"
      ],
      "execution_count": 31,
      "outputs": [
        {
          "output_type": "display_data",
          "data": {
            "image/png": "[encoded data removed]",
            "text/plain": [
              "<Figure size 432x288 with 1 Axes>"
            ]
          },
          "metadata": {
            "needs_background": "light"
          }
        }
      ]
    }
  ]
}